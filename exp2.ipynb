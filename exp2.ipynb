{
  "nbformat": 4,
  "nbformat_minor": 0,
  "metadata": {
    "colab": {
      "provenance": []
    },
    "kernelspec": {
      "name": "python3",
      "display_name": "Python 3"
    },
    "language_info": {
      "name": "python"
    }
  },
  "cells": [
    {
      "cell_type": "code",
      "execution_count": 1,
      "metadata": {
        "id": "hzWGzio-a97y"
      },
      "outputs": [],
      "source": [
        "import numpy as np\n",
        "import pandas as pd"
      ]
    },
    {
      "cell_type": "code",
      "source": [
        "#Loading data from a CSV file\n",
        "data=pd.DataFrame(data=pd.read_csv('/content/sampledata1.csv'))\n",
        "print(data)\n"
      ],
      "metadata": {
        "colab": {
          "base_uri": "https://localhost:8080/"
        },
        "id": "n7uAcYIOcwwZ",
        "outputId": "e10df2a2-0843-47db-a0db-dd06ef96cdea"
      },
      "execution_count": 4,
      "outputs": [
        {
          "output_type": "stream",
          "name": "stdout",
          "text": [
            "   sunny  warm normal  strong warm.1     same  yes\n",
            "0  sunny  warm   high  strong   warm     same  yes\n",
            "1  rainy  cold   high  strong   warm  changes   no\n",
            "2  sunny  warm   high  strong   cool  changes  yes\n"
          ]
        }
      ]
    },
    {
      "cell_type": "code",
      "source": [
        "#Separating concept features from Target\n",
        "concepts=np.array(data.iloc[:,0:-1])\n",
        "print(concepts)"
      ],
      "metadata": {
        "colab": {
          "base_uri": "https://localhost:8080/"
        },
        "id": "BivrIMc_c1kv",
        "outputId": "932047f8-8cce-41ef-92bd-ca654c6c87f1"
      },
      "execution_count": 5,
      "outputs": [
        {
          "output_type": "stream",
          "name": "stdout",
          "text": [
            "[['sunny' 'warm' 'high' 'strong' 'warm' 'same']\n",
            " ['rainy' 'cold' 'high' 'strong' 'warm' 'changes']\n",
            " ['sunny' 'warm' 'high' 'strong' 'cool' 'changes']]\n"
          ]
        }
      ]
    },
    {
      "cell_type": "code",
      "source": [
        "#Isolating target into a separate DataFrame\n",
        "#Copying last column to target array\n",
        "target=np.array(data.iloc[:,-1])\n",
        "print(target)"
      ],
      "metadata": {
        "colab": {
          "base_uri": "https://localhost:8080/"
        },
        "id": "EeT-bVFgdPE1",
        "outputId": "723ed9f9-effa-4146-dd86-bc4b97e4d093"
      },
      "execution_count": 6,
      "outputs": [
        {
          "output_type": "stream",
          "name": "stdout",
          "text": [
            "['yes' 'no' 'yes']\n"
          ]
        }
      ]
    },
    {
      "cell_type": "code",
      "source": [
        "def learn(concepts, target):\n",
        "    # Initialize S0 with the first instance from concepts\n",
        "    specific_h = concepts[0].copy()\n",
        "\n",
        "    print(\"\\nInitialization of specific_h and general_h\")\n",
        "    print(specific_h)# Corrected list comprehension for general_h initialization\n",
        "    general_h = [[\"?\" for _ in range(len(specific_h))] for _ in range(len(specific_h))]\n",
        "\n",
        "    print(general_h)\n",
        "    # The Learning Iterations\n",
        "    for i, h in enumerate(concepts):\n",
        "        # Checking if the hypothesis has a positive target\n",
        "        if target[i] == \"Yes\":\n",
        "            for x in range(len(specific_h)):\n",
        "                # Change value in S & G only if values change\n",
        "                if h[x] != specific_h[x]:\n",
        "                    specific_h[x] = '?'\n",
        "                    general_h[x][x] = '?'\n",
        "\n",
        "        # Checking if the hypothesis has a negative target\n",
        "        if target[i] == \"No\":\n",
        "            for x in range(len(specific_h)):\n",
        "                # For negative hypothesis change values only in G\n",
        "                if h[x] != specific_h[x]:\n",
        "                    general_h[x][x] = specific_h[x]\n",
        "                else:\n",
        "                    general_h[x][x] = '?'\n",
        "\n",
        "        print(\"\\nSteps of Elimination Algorithm\", i + 1)\n",
        "        print(specific_h)\n",
        "        print(general_h)\n",
        "\n",
        "    # Remove unchanged general_h rows (i.e., all '?')\n",
        "    general_h = [h for h in general_h if h != ['?'] * len(specific_h)]\n",
        "\n",
        "    # Return final values\n",
        "    return specific_h, general_h\n",
        "\n",
        "\n",
        "\n",
        "\n",
        "\n"
      ],
      "metadata": {
        "id": "_UQstYCJdWSm"
      },
      "execution_count": 10,
      "outputs": []
    },
    {
      "cell_type": "code",
      "source": [
        "s_final,g_final = learn(concepts, target)\n",
        "print(\"\\nFinal Specific_h:\", s_final, sep=\"\\n\")\n",
        "print(\"\\nFinal General_h:\", g_final, sep=\"\\n\")\n"
      ],
      "metadata": {
        "colab": {
          "base_uri": "https://localhost:8080/"
        },
        "id": "ZsEIw1kqeX6D",
        "outputId": "42a06bb5-c0cb-4cc0-d86d-46cb1dad775b"
      },
      "execution_count": 11,
      "outputs": [
        {
          "output_type": "stream",
          "name": "stdout",
          "text": [
            "\n",
            "Initialization of specific_h and general_h\n",
            "['sunny' 'warm' 'high' 'strong' 'warm' 'same']\n",
            "[['?', '?', '?', '?', '?', '?'], ['?', '?', '?', '?', '?', '?'], ['?', '?', '?', '?', '?', '?'], ['?', '?', '?', '?', '?', '?'], ['?', '?', '?', '?', '?', '?'], ['?', '?', '?', '?', '?', '?']]\n",
            "\n",
            "Steps of Elimination Algorithm 1\n",
            "['sunny' 'warm' 'high' 'strong' 'warm' 'same']\n",
            "[['?', '?', '?', '?', '?', '?'], ['?', '?', '?', '?', '?', '?'], ['?', '?', '?', '?', '?', '?'], ['?', '?', '?', '?', '?', '?'], ['?', '?', '?', '?', '?', '?'], ['?', '?', '?', '?', '?', '?']]\n",
            "\n",
            "Steps of Elimination Algorithm 2\n",
            "['sunny' 'warm' 'high' 'strong' 'warm' 'same']\n",
            "[['?', '?', '?', '?', '?', '?'], ['?', '?', '?', '?', '?', '?'], ['?', '?', '?', '?', '?', '?'], ['?', '?', '?', '?', '?', '?'], ['?', '?', '?', '?', '?', '?'], ['?', '?', '?', '?', '?', '?']]\n",
            "\n",
            "Steps of Elimination Algorithm 3\n",
            "['sunny' 'warm' 'high' 'strong' 'warm' 'same']\n",
            "[['?', '?', '?', '?', '?', '?'], ['?', '?', '?', '?', '?', '?'], ['?', '?', '?', '?', '?', '?'], ['?', '?', '?', '?', '?', '?'], ['?', '?', '?', '?', '?', '?'], ['?', '?', '?', '?', '?', '?']]\n",
            "\n",
            "Final Specific_h:\n",
            "['sunny' 'warm' 'high' 'strong' 'warm' 'same']\n",
            "\n",
            "Final General_h:\n",
            "[]\n"
          ]
        }
      ]
    },
    {
      "cell_type": "code",
      "source": [],
      "metadata": {
        "id": "6tgaiOkJek95"
      },
      "execution_count": null,
      "outputs": []
    }
  ]
}